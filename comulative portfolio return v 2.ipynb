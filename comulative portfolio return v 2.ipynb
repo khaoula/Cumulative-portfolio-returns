{
 "cells": [
  {
   "cell_type": "code",
   "execution_count": null,
   "metadata": {},
   "outputs": [],
   "source": [
    "                    Calculating Cumulative portfolio returns in Python using Yahoo Data Finance\n",
    "Cumulative returns is an important concept related to returns which is defined as the returns over a time period."
   ]
  },
  {
   "cell_type": "code",
   "execution_count": 1,
   "metadata": {},
   "outputs": [],
   "source": [
    "import pandas as pd\n",
    "import numpy as np\n",
    "import matplotlib.pyplot as plt\n",
    "import pandas_datareader as web"
   ]
  },
  {
   "cell_type": "code",
   "execution_count": 2,
   "metadata": {},
   "outputs": [],
   "source": [
    "#  chose the Assets to be included in the portfolio\n",
    "tickers = ['BND', 'VB', 'VEA', 'VOO', 'VWO']"
   ]
  },
  {
   "cell_type": "code",
   "execution_count": 3,
   "metadata": {},
   "outputs": [],
   "source": [
    "# create a vector for asset weights\n",
    "wts = [0.1,0.2,0.25,0.25,0.2]"
   ]
  },
  {
   "cell_type": "code",
   "execution_count": 4,
   "metadata": {},
   "outputs": [],
   "source": [
    "#download the price data from yahoo finance\n",
    "price_data = web.get_data_yahoo(tickers,\n",
    "                               start = '2013-01-01',\n",
    "                               end = '2018-03-01')"
   ]
  },
  {
   "cell_type": "code",
   "execution_count": 5,
   "metadata": {},
   "outputs": [],
   "source": [
    "#get Data from ADJ close column\n",
    "price_data = price_data['Adj Close']"
   ]
  },
  {
   "cell_type": "code",
   "execution_count": 39,
   "metadata": {},
   "outputs": [
    {
     "name": "stdout",
     "output_type": "stream",
     "text": [
      "Symbols           BND         VB        VEA         VOO        VWO\n",
      "Date                                                              \n",
      "2013-01-02  69.644707  75.528328  29.225330  116.686630  37.870014\n",
      "2013-01-03  69.437263  75.482918  28.931528  116.581810  37.645142\n",
      "2013-01-04  69.545097  76.054886  29.094755  117.070915  37.711773\n",
      "2013-01-07  69.495316  75.827942  28.947853  116.756500  37.386955\n",
      "2013-01-08  69.561745  75.682663  28.792793  116.407166  37.078793\n"
     ]
    }
   ],
   "source": [
    "print(price_data.head())"
   ]
  },
  {
   "cell_type": "code",
   "execution_count": 21,
   "metadata": {},
   "outputs": [],
   "source": [
    "#Calculate the daily returns for the assets\n",
    "ret_data = price_data.pct_change()[1:]"
   ]
  },
  {
   "cell_type": "code",
   "execution_count": 40,
   "metadata": {},
   "outputs": [
    {
     "name": "stdout",
     "output_type": "stream",
     "text": [
      "Symbols          BND        VB       VEA       VOO       VWO\n",
      "Date                                                        \n",
      "2013-01-03 -0.002979 -0.000601 -0.010053 -0.000898 -0.005938\n",
      "2013-01-04  0.001553  0.007577  0.005642  0.004195  0.001770\n",
      "2013-01-07 -0.000716 -0.002984 -0.005049 -0.002686 -0.008613\n",
      "2013-01-08  0.000956 -0.001916 -0.005357 -0.002992 -0.008243\n",
      "2013-01-09 -0.000358  0.004318  0.004818  0.003001  0.005840\n"
     ]
    }
   ],
   "source": [
    "print(ret_data.head())"
   ]
  },
  {
   "cell_type": "code",
   "execution_count": 41,
   "metadata": {},
   "outputs": [
    {
     "name": "stdout",
     "output_type": "stream",
     "text": [
      "Symbols          BND        VB       VEA       VOO       VWO\n",
      "Date                                                        \n",
      "2013-01-03 -0.000298 -0.000120 -0.002513 -0.000225 -0.001188\n",
      "2013-01-04  0.000155  0.001515  0.001410  0.001049  0.000354\n",
      "2013-01-07 -0.000072 -0.000597 -0.001262 -0.000671 -0.001723\n",
      "2013-01-08  0.000096 -0.000383 -0.001339 -0.000748 -0.001649\n",
      "2013-01-09 -0.000036  0.000864  0.001205  0.000750  0.001168\n"
     ]
    }
   ],
   "source": [
    "#Calculate the weighted returns for the assets\n",
    "weighted_returns = (wts * ret_data)\n",
    "print(weighted_returns.head())"
   ]
  },
  {
   "cell_type": "code",
   "execution_count": 27,
   "metadata": {},
   "outputs": [],
   "source": [
    "#Calculate the portfolio returns which are the sum of the weighted returns.\n",
    "port_ret = weighted_returns.sum(axis=1)"
   ]
  },
  {
   "cell_type": "code",
   "execution_count": 42,
   "metadata": {},
   "outputs": [
    {
     "name": "stdout",
     "output_type": "stream",
     "text": [
      "Date\n",
      "2013-01-03   -0.004344\n",
      "2013-01-04    0.004484\n",
      "2013-01-07   -0.004325\n",
      "2013-01-08   -0.004023\n",
      "2013-01-09    0.003951\n",
      "dtype: float64\n"
     ]
    }
   ],
   "source": [
    "print(port_ret.head())"
   ]
  },
  {
   "cell_type": "code",
   "execution_count": 43,
   "metadata": {
    "scrolled": true
   },
   "outputs": [
    {
     "name": "stdout",
     "output_type": "stream",
     "text": [
      "Date\n",
      "2013-01-03    0.995656\n",
      "2013-01-04    1.000121\n",
      "2013-01-07    0.995796\n",
      "2013-01-08    0.991790\n",
      "2013-01-09    0.995708\n",
      "dtype: float64\n"
     ]
    }
   ],
   "source": [
    "#Calculate portfolio cumulative returns, we need to use the cumprod() function.\n",
    "cumulative_ret = (port_ret + 1).cumprod()\n",
    "print(cumulative_ret.head())"
   ]
  },
  {
   "cell_type": "code",
   "execution_count": 44,
   "metadata": {},
   "outputs": [
    {
     "data": {
      "image/png": "[encoded data removed]",
      "text/plain": [
       "<Figure size 432x288 with 1 Axes>"
      ]
     },
     "metadata": {
      "needs_background": "light"
     },
     "output_type": "display_data"
    }
   ],
   "source": [
    "#plot portfolios cumulative returns\n",
    "fig = plt.figure()\n",
    "ax1 = fig.add_axes([0.1,0.1,0.8,0.8])\n",
    "ax1.plot(cumulative_ret)\n",
    "ax1.set_xlabel('Date')\n",
    "ax1.set_ylabel(\"Cumulative Returns\")\n",
    "ax1.set_title(\"Portfolio Cumulative Returns\")\n",
    "plt.show();"
   ]
  }
 ],
 "metadata": {
  "kernelspec": {
   "display_name": "Python 3",
   "language": "python",
   "name": "python3"
  },
  "language_info": {
   "codemirror_mode": {
    "name": "ipython",
    "version": 3
   },
   "file_extension": ".py",
   "mimetype": "text/x-python",
   "name": "python",
   "nbconvert_exporter": "python",
   "pygments_lexer": "ipython3",
   "version": "3.7.0"
  }
 },
 "nbformat": 4,
 "nbformat_minor": 2
}
